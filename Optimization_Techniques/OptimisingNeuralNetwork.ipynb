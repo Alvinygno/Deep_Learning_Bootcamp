{
  "nbformat": 4,
  "nbformat_minor": 0,
  "metadata": {
    "kernelspec": {
      "display_name": "Python 3",
      "language": "python",
      "name": "python3"
    },
    "language_info": {
      "codemirror_mode": {
        "name": "ipython",
        "version": 3
      },
      "file_extension": ".py",
      "mimetype": "text/x-python",
      "name": "python",
      "nbconvert_exporter": "python",
      "pygments_lexer": "ipython3",
      "version": "3.6.8"
    },
    "colab": {
      "name": "OptimisingNeuralNetwork.ipynb",
      "provenance": [],
      "collapsed_sections": [],
      "include_colab_link": true
    }
  },
  "cells": [
    {
      "cell_type": "markdown",
      "metadata": {
        "id": "view-in-github",
        "colab_type": "text"
      },
      "source": [
        "<a href=\"https://colab.research.google.com/github/dphi-official/Deep_Learning_Bootcamp/blob/master/Optimization_Techniques/OptimisingNeuralNetwork.ipynb\" target=\"_parent\"><img src=\"https://colab.research.google.com/assets/colab-badge.svg\" alt=\"Open In Colab\"/></a>"
      ]
    },
    {
      "cell_type": "markdown",
      "metadata": {
        "id": "AAsen8s8_qQ0",
        "colab_type": "text"
      },
      "source": [
        "**Author:** [Hasan Ali](https://www.linkedin.com/in/learnmlwithhasan/)"
      ]
    },
    {
      "cell_type": "markdown",
      "metadata": {
        "id": "OtzwZRVtnb5J",
        "colab_type": "text"
      },
      "source": [
        "# Optimising a Neural Network ? \n",
        "\n",
        "Optimising a Neural Network or any model for that matter is like tuning a radio. The diffirence is there might be a million knobs to tune simulataneously."
      ]
    },
    {
      "cell_type": "code",
      "metadata": {
        "id": "Ya_aT2EDn7og",
        "colab_type": "code",
        "colab": {
          "base_uri": "https://localhost:8080/",
          "height": 291
        },
        "outputId": "4fcc090f-4ac8-44ab-8fb3-c7dae276cf65"
      },
      "source": [
        "  from IPython.display import Image\n",
        "Image(url=\"https://media3.giphy.com/media/l2Je32EwtM8jUnKk8/giphy.gif\")"
      ],
      "execution_count": null,
      "outputs": [
        {
          "output_type": "execute_result",
          "data": {
            "text/html": [
              "<img src=\"https://media3.giphy.com/media/l2Je32EwtM8jUnKk8/giphy.gif\"/>"
            ],
            "text/plain": [
              "<IPython.core.display.Image object>"
            ]
          },
          "metadata": {
            "tags": []
          },
          "execution_count": 1
        }
      ]
    },
    {
      "cell_type": "markdown",
      "metadata": {
        "id": "cPAvi9Danb5L",
        "colab_type": "text"
      },
      "source": [
        "#### Topics in Optimize a neural network:\n",
        "1. Understanding Overfitting and Underfitting\n",
        "2. Early Stopping\n",
        "3. Regularisation\n",
        "4. Dropout\n",
        "5. Understanding Local and Global Minima\n",
        "6. Batch vs Stochastic Gradient Descent\n",
        "7. Random Initialization/Restart\n",
        "8. Vanishing Gradient\n",
        "9. Other Activation Functions"
      ]
    },
    {
      "cell_type": "markdown",
      "metadata": {
        "id": "pt-cUPiLnb5M",
        "colab_type": "text"
      },
      "source": [
        "### Understanding Overfitting and Underfitting"
      ]
    },
    {
      "cell_type": "markdown",
      "metadata": {
        "id": "HQPE0_Mfnb5N",
        "colab_type": "text"
      },
      "source": [
        "`Overfitting` : is a scenario where your model performs well on training data but performs poorly on data not seen during training. This basically means that your model has memorized the training data instead of learning the relationships between features and labels.\n",
        "\n",
        "If you are familiar with the bias/variance tradeoff, then you can think of overfitting as a situation where your model has high variance, memorizing the random noise in the training set."
      ]
    },
    {
      "cell_type": "markdown",
      "metadata": {
        "id": "YpVegT88nb5N",
        "colab_type": "text"
      },
      "source": [
        "![overfitting.png](data:image/png;base64,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)"
      ]
    },
    {
      "cell_type": "markdown",
      "metadata": {
        "id": "pCBEjCEznb5P",
        "colab_type": "text"
      },
      "source": [
        "`Underfitting` is the opposite counterpart of overfitting wherein your model exhibits high bias. This situation can occur when your model is not sufficiently complex to capture the relationship between features and labels (or if your model is too strictly regularized).\n",
        "\n",
        "Underfitting is a bit harder to diagnose. If Accuracy and Validation Accuracy are similar but are both poor, then you may be underfitting. \n"
      ]
    },
    {
      "cell_type": "markdown",
      "metadata": {
        "id": "AkwAcxvfNzBF",
        "colab_type": "text"
      },
      "source": [
        "### What is tensorboard ? \n",
        "\n",
        "Tensorboard is the interface used to visualize the graph and other tools to understand, debug, and optimize the model.It is basically a UI for tensorflow but it can be used for Keras and Pytorch also. (Yes Pytorch which is a deep learning framework by facebook also has support for tensorboard which is a google product...*ain't that collaboration amazing ?* )"
      ]
    },
    {
      "cell_type": "markdown",
      "metadata": {
        "id": "b0zmbem5Pwjf",
        "colab_type": "text"
      },
      "source": [
        "### What is Validation Data ?\n",
        "\n",
        "Generally, the term “validation set” is used interchangeably with the term “test set” and refers to a sample of the dataset held back from training the model.\n",
        "\n",
        "if you remember train_test-split() in sklearn this train-test is basically train-validation split. We use the validation data to test the trained model on an unseen data(validation data). \n",
        "\n",
        "NOTE : We don't use training data to evaluate the model because it would end in biased results since we have already trained on them.\n",
        "\n"
      ]
    },
    {
      "cell_type": "markdown",
      "metadata": {
        "id": "hYQ-8BhmTPNZ",
        "colab_type": "text"
      },
      "source": [
        "![train_test_split.png](data:image/png;base64,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)"
      ]
    },
    {
      "cell_type": "markdown",
      "metadata": {
        "id": "dppCoWUlnb5O",
        "colab_type": "text"
      },
      "source": [
        "So coming back to overfitting, If you've worked with **tensorboard**, overfitting is easy to diagnose with the accuracy(or loss) visualizations you have available. If \"Accuracy\" (measured against the training set) is very good and \"Validation Accuracy\" (measured against a validation set) is not as good, then your model is overfitting. (as seen in image)"
      ]
    },
    {
      "cell_type": "markdown",
      "metadata": {
        "id": "AaHqay2Fnb5Q",
        "colab_type": "text"
      },
      "source": [
        "### Strategies to avoid overfitting/underfitting\n",
        "\n",
        "\n",
        "You can combat overfitting by reducing the complexity of your model (i.e. reducing the number of trainable parameters).This is done by :\n",
        "\n",
        "- Use fewer layers (shallower networks), fewer neurons per layer (narrow networks)\n",
        "- Using **Dropouts**\n",
        "- Using **Regularisation**\n",
        "- **Early Stopping** in some cases\n",
        "\n",
        "You can combat underfitting by:\n",
        "\n",
        "- increasing the complexity of your model i.e. increasing layers and number of neurons.With more layers, the network can learn more sophisticated relationships and perhaps perform well on difficult real-world tasks."
      ]
    },
    {
      "cell_type": "markdown",
      "metadata": {
        "id": "BKpe2fsiUXHu",
        "colab_type": "text"
      },
      "source": [
        "Usually we have overfitting rather than underfitting in Neural Networks."
      ]
    },
    {
      "cell_type": "markdown",
      "metadata": {
        "id": "d6fE6Sbvnb5Q",
        "colab_type": "text"
      },
      "source": [
        "### Using MNSIT Dataset\n",
        "Here is a simple example of how number of layers and number of neurons affect the model"
      ]
    },
    {
      "cell_type": "code",
      "metadata": {
        "id": "qkcYOuzrnb5R",
        "colab_type": "code",
        "colab": {}
      },
      "source": [
        "# import data science libraries\n",
        "import numpy as np\n",
        "import matplotlib\n",
        "import matplotlib.pyplot as plt\n",
        "###so that graphs are loaded in the notebook only\n",
        "%matplotlib inline \n",
        "\n",
        "# Import tensorflow\n",
        "import tensorflow as tf"
      ],
      "execution_count": null,
      "outputs": []
    },
    {
      "cell_type": "markdown",
      "metadata": {
        "id": "cF2yq5-8nb5X",
        "colab_type": "text"
      },
      "source": [
        "I hope you don't hate me that above commands downloaded MNIST data set to your local disk space :)\n",
        "Below you see how to fetch arbitrary number of MNIST image data and their _labels_, a correct digit in each image."
      ]
    },
    {
      "cell_type": "code",
      "metadata": {
        "id": "7myMmhd-nb5Y",
        "colab_type": "code",
        "colab": {
          "base_uri": "https://localhost:8080/",
          "height": 50
        },
        "outputId": "ffdde0a0-015d-4973-f2be-ddac71e876ef"
      },
      "source": [
        "###loading MNIST dataset which is inside tensorflow libray only\n",
        "from tensorflow.keras.datasets import mnist\n",
        "\n",
        "(X_train, y_train), (X_test, y_test) = mnist.load_data()"
      ],
      "execution_count": null,
      "outputs": [
        {
          "output_type": "stream",
          "text": [
            "Downloading data from https://storage.googleapis.com/tensorflow/tf-keras-datasets/mnist.npz\n",
            "11493376/11490434 [==============================] - 0s 0us/step\n"
          ],
          "name": "stdout"
        }
      ]
    },
    {
      "cell_type": "code",
      "metadata": {
        "id": "OQHT5zsanb5b",
        "colab_type": "code",
        "colab": {
          "base_uri": "https://localhost:8080/",
          "height": 861
        },
        "outputId": "146a5b85-03fe-40f1-bf29-d6301e9ecfe5"
      },
      "source": [
        "# Let's see the first 3 images and corresponding labels in our training data\n",
        "images = X_train[:3]\n",
        "labels = y_train[:3]\n",
        "\n",
        "for index, image in enumerate(images):\n",
        "    print ('Label:', labels[index])\n",
        "    print ('Digit in the image', np.argmax(labels[index]))  #argmax picks out the label with highest probability\n",
        "    plt.imshow(image.reshape(28,28),cmap='gray')\n",
        "    plt.show()"
      ],
      "execution_count": null,
      "outputs": [
        {
          "output_type": "stream",
          "text": [
            "Label: 5\n",
            "Digit in the image 0\n"
          ],
          "name": "stdout"
        },
        {
          "output_type": "display_data",
          "data": {
            "image/png": "[encoded data removed]",
            "text/plain": [
              "<Figure size 432x288 with 1 Axes>"
            ]
          },
          "metadata": {
            "tags": [],
            "needs_background": "light"
          }
        },
        {
          "output_type": "stream",
          "text": [
            "Label: 0\n",
            "Digit in the image 0\n"
          ],
          "name": "stdout"
        },
        {
          "output_type": "display_data",
          "data": {
            "image/png": "[encoded data removed]",
            "text/plain": [
              "<Figure size 432x288 with 1 Axes>"
            ]
          },
          "metadata": {
            "tags": [],
            "needs_background": "light"
          }
        },
        {
          "output_type": "stream",
          "text": [
            "Label: 4\n",
            "Digit in the image 0\n"
          ],
          "name": "stdout"
        },
        {
          "output_type": "display_data",
          "data": {
            "image/png": "[encoded data removed]",
            "text/plain": [
              "<Figure size 432x288 with 1 Axes>"
            ]
          },
          "metadata": {
            "tags": [],
            "needs_background": "light"
          }
        }
      ]
    },
    {
      "cell_type": "code",
      "metadata": {
        "id": "sEkGDN0onb5f",
        "colab_type": "code",
        "colab": {}
      },
      "source": [
        "from tensorflow.keras.models import Sequential\n",
        "from tensorflow.keras.layers import Dense\n",
        "from tensorflow.keras.optimizers import SGD\n",
        "##Tensorboard as we discussed is for visualisation\n",
        "from tensorflow.keras.callbacks import TensorBoard\n",
        "from tensorflow.keras.utils import to_categorical\n",
        "from datetime import datetime"
      ],
      "execution_count": null,
      "outputs": []
    },
    {
      "cell_type": "code",
      "metadata": {
        "id": "wC1wYgdanb5j",
        "colab_type": "code",
        "colab": {}
      },
      "source": [
        "###why did we reshaped ?? Question for you--?\n",
        "\n",
        "X_train = X_train.reshape(60000, 784)\n",
        "X_test = X_test.reshape(10000, 784)"
      ],
      "execution_count": null,
      "outputs": []
    },
    {
      "cell_type": "code",
      "metadata": {
        "id": "qHXykglDnb5n",
        "colab_type": "code",
        "colab": {}
      },
      "source": [
        "###what is to_categorical doing here ? Question for you --?\n",
        "\n",
        "y_train = to_categorical(y_train, 10)\n",
        "y_test = to_categorical(y_test, 10)"
      ],
      "execution_count": null,
      "outputs": []
    },
    {
      "cell_type": "markdown",
      "metadata": {
        "id": "9h91YXKpnb5s",
        "colab_type": "text"
      },
      "source": [
        "`Neural network with only one input and output layer`"
      ]
    },
    {
      "cell_type": "code",
      "metadata": {
        "id": "QTSqcMcXnb5s",
        "colab_type": "code",
        "colab": {}
      },
      "source": [
        "##Sequential just symbolises \n",
        "model1 = Sequential()\n",
        "##input layer\n",
        "model1.add(Dense(50, activation='relu', input_shape= (784,) ))\n",
        "\n",
        "##we will use softmax as activation function because this is a multiclass classification problem.\n",
        "### if you dont know what softmax , you need to understand it mathematically.\n",
        "#Intuitively what it does is it converts numbers into probabilities.\n",
        "###find out more here --> https://www.youtube.com/watch?v=p-XCC0y8eeY\n",
        "model1.add(Dense(10, activation='softmax'))\n",
        "model1.compile(loss='categorical_crossentropy', optimizer=SGD(lr=0.001), metrics=['accuracy'])"
      ],
      "execution_count": null,
      "outputs": []
    },
    {
      "cell_type": "code",
      "metadata": {
        "id": "XWFwsIKTnb5w",
        "colab_type": "code",
        "colab": {}
      },
      "source": [
        "## for tensorboard visualisation you can check out the following link: https://youtu.be/Uzkhn5ENJzQ\n",
        "logdir = \"logs/\" + datetime.now().strftime(\"%Y%m%d-%H%M%S\")\n",
        "tensorboard_callback = TensorBoard(log_dir=logdir)"
      ],
      "execution_count": null,
      "outputs": []
    },
    {
      "cell_type": "code",
      "metadata": {
        "id": "cIInMHGAnb5z",
        "colab_type": "code",
        "colab": {
          "base_uri": "https://localhost:8080/",
          "height": 438
        },
        "outputId": "b13e664e-78f1-46a3-a0e6-e38679532980"
      },
      "source": [
        "training_history = model1.fit(\n",
        "    X_train, # input\n",
        "    y_train, # output\n",
        "    batch_size=32,\n",
        "    verbose=1, # Suppress chatty output; use Tensorboard instead\n",
        "    epochs=10,\n",
        "    validation_data=(X_test, y_test),\n",
        "    callbacks=[tensorboard_callback],\n",
        ")"
      ],
      "execution_count": null,
      "outputs": [
        {
          "output_type": "stream",
          "text": [
            "Epoch 1/10\n",
            "   1/1875 [..............................] - ETA: 0s - loss: 180.8055 - accuracy: 0.1250WARNING:tensorflow:From /usr/local/lib/python3.6/dist-packages/tensorflow/python/ops/summary_ops_v2.py:1277: stop (from tensorflow.python.eager.profiler) is deprecated and will be removed after 2020-07-01.\n",
            "Instructions for updating:\n",
            "use `tf.profiler.experimental.stop` instead.\n",
            "WARNING:tensorflow:Callbacks method `on_train_batch_end` is slow compared to the batch time (batch time: 0.0167s vs `on_train_batch_end` time: 0.0260s). Check your callbacks.\n",
            "1875/1875 [==============================] - 3s 1ms/step - loss: 1.7504 - accuracy: 0.5520 - val_loss: 1.0411 - val_accuracy: 0.6822\n",
            "Epoch 2/10\n",
            "1875/1875 [==============================] - 3s 1ms/step - loss: 0.8645 - accuracy: 0.7827 - val_loss: 0.7579 - val_accuracy: 0.8126\n",
            "Epoch 3/10\n",
            "1875/1875 [==============================] - 3s 2ms/step - loss: 0.7017 - accuracy: 0.8205 - val_loss: 0.6729 - val_accuracy: 0.8196\n",
            "Epoch 4/10\n",
            "1875/1875 [==============================] - 3s 1ms/step - loss: 0.6173 - accuracy: 0.8359 - val_loss: 0.6052 - val_accuracy: 0.8476\n",
            "Epoch 5/10\n",
            "1875/1875 [==============================] - 3s 2ms/step - loss: 0.5601 - accuracy: 0.8466 - val_loss: 0.5693 - val_accuracy: 0.8628\n",
            "Epoch 6/10\n",
            "1875/1875 [==============================] - 3s 1ms/step - loss: 0.4760 - accuracy: 0.8769 - val_loss: 0.4593 - val_accuracy: 0.8911\n",
            "Epoch 7/10\n",
            "1875/1875 [==============================] - 3s 1ms/step - loss: 0.4140 - accuracy: 0.8917 - val_loss: 0.4224 - val_accuracy: 0.8928\n",
            "Epoch 8/10\n",
            "1875/1875 [==============================] - 2s 1ms/step - loss: 0.3779 - accuracy: 0.8996 - val_loss: 0.3923 - val_accuracy: 0.9014\n",
            "Epoch 9/10\n",
            "1875/1875 [==============================] - 2s 1ms/step - loss: 0.3511 - accuracy: 0.9048 - val_loss: 0.3717 - val_accuracy: 0.9102\n",
            "Epoch 10/10\n",
            "1875/1875 [==============================] - 3s 1ms/step - loss: 0.3314 - accuracy: 0.9085 - val_loss: 0.3662 - val_accuracy: 0.9096\n"
          ],
          "name": "stdout"
        }
      ]
    },
    {
      "cell_type": "markdown",
      "metadata": {
        "id": "uRQFZrbnXYo2",
        "colab_type": "text"
      },
      "source": [
        "The relative tensorboard graph is below. The maximum accuracy achieved is 0.90. If we train it for longer(for more epochs) maybe the accuracy will increase. "
      ]
    },
    {
      "cell_type": "markdown",
      "metadata": {
        "id": "MA6_wy1Dnb53",
        "colab_type": "text"
      },
      "source": [
        "\n",
        "![underfitting_validation.JPG](https://drive.google.com/uc?export=view&id=1N7odof3bwAVOwbbm73_CdKbH3gWMkp4Z)\n",
        "\n",
        "\n"
      ]
    },
    {
      "cell_type": "markdown",
      "metadata": {
        "id": "Lsy4-yLKnb54",
        "colab_type": "text"
      },
      "source": [
        "#### `Adding many layers to the model`"
      ]
    },
    {
      "cell_type": "code",
      "metadata": {
        "id": "xtXgnlQcnb54",
        "colab_type": "code",
        "colab": {}
      },
      "source": [
        "model2 = Sequential()\n",
        "##10 Neurons layer\n",
        "model2.add(Dense(10, activation='relu', input_shape= (784,) ))\n",
        "\n",
        "##Many 512 Neuron Layer...try to play with the number of layers (increase or decrease)\n",
        "model2.add(Dense(512, activation='relu'))\n",
        "model2.add(Dense(512, activation='relu'))\n",
        "model2.add(Dense(512, activation='relu'))\n",
        "model2.add(Dense(512, activation='relu'))\n",
        "model2.add(Dense(512, activation='relu'))\n",
        "model2.add(Dense(512, activation='relu'))\n",
        "model2.add(Dense(10, activation='softmax'))\n",
        "model2.compile(loss='categorical_crossentropy', optimizer=SGD(lr=0.001), metrics=['accuracy'])"
      ],
      "execution_count": null,
      "outputs": []
    },
    {
      "cell_type": "code",
      "metadata": {
        "id": "mhtzdijVnb58",
        "colab_type": "code",
        "colab": {}
      },
      "source": [
        "logdir = \"logs/\" + datetime.now().strftime(\"%Y%m%d-%H%M%S\")\n",
        "tensorboard_callback = TensorBoard(log_dir=logdir)"
      ],
      "execution_count": null,
      "outputs": []
    },
    {
      "cell_type": "code",
      "metadata": {
        "id": "XfPDa4Kbnb5_",
        "colab_type": "code",
        "colab": {
          "base_uri": "https://localhost:8080/",
          "height": 388
        },
        "outputId": "f7e81640-6526-4f59-e59d-b629283b214d"
      },
      "source": [
        "training_history = model2.fit(\n",
        "    X_train, # input\n",
        "    y_train, # output\n",
        "    batch_size=32,\n",
        "    verbose=1, # Suppress chatty output; use Tensorboard instead\n",
        "    epochs=10,\n",
        "    validation_data=(X_test, y_test),\n",
        "    callbacks=[tensorboard_callback],\n",
        ")"
      ],
      "execution_count": null,
      "outputs": [
        {
          "output_type": "stream",
          "text": [
            "Epoch 1/10\n",
            "   2/1875 [..............................] - ETA: 49s - loss: 3.5565 - accuracy: 0.1094WARNING:tensorflow:Callbacks method `on_train_batch_end` is slow compared to the batch time (batch time: 0.0181s vs `on_train_batch_end` time: 0.0342s). Check your callbacks.\n",
            "1875/1875 [==============================] - 27s 14ms/step - loss: 0.6201 - accuracy: 0.7973 - val_loss: 0.3322 - val_accuracy: 0.8942\n",
            "Epoch 2/10\n",
            "1875/1875 [==============================] - 27s 15ms/step - loss: 0.2884 - accuracy: 0.9096 - val_loss: 0.2715 - val_accuracy: 0.9161\n",
            "Epoch 3/10\n",
            "1875/1875 [==============================] - 27s 15ms/step - loss: 0.2207 - accuracy: 0.9318 - val_loss: 0.2528 - val_accuracy: 0.9220\n",
            "Epoch 4/10\n",
            "1875/1875 [==============================] - 28s 15ms/step - loss: 0.1858 - accuracy: 0.9412 - val_loss: 0.2096 - val_accuracy: 0.9359\n",
            "Epoch 5/10\n",
            "1875/1875 [==============================] - 27s 15ms/step - loss: 0.1613 - accuracy: 0.9479 - val_loss: 0.1813 - val_accuracy: 0.9429\n",
            "Epoch 6/10\n",
            "1875/1875 [==============================] - 28s 15ms/step - loss: 0.1444 - accuracy: 0.9541 - val_loss: 0.1715 - val_accuracy: 0.9471\n",
            "Epoch 7/10\n",
            "1875/1875 [==============================] - 28s 15ms/step - loss: 0.1298 - accuracy: 0.9585 - val_loss: 0.1711 - val_accuracy: 0.9469\n",
            "Epoch 8/10\n",
            "1875/1875 [==============================] - 28s 15ms/step - loss: 0.1186 - accuracy: 0.9614 - val_loss: 0.1717 - val_accuracy: 0.9463\n",
            "Epoch 9/10\n",
            "1875/1875 [==============================] - 28s 15ms/step - loss: 0.1086 - accuracy: 0.9646 - val_loss: 0.1535 - val_accuracy: 0.9502\n",
            "Epoch 10/10\n",
            "1875/1875 [==============================] - 29s 15ms/step - loss: 0.0981 - accuracy: 0.9685 - val_loss: 0.1632 - val_accuracy: 0.9481\n"
          ],
          "name": "stdout"
        }
      ]
    },
    {
      "cell_type": "markdown",
      "metadata": {
        "id": "o6cDdMspnb6C",
        "colab_type": "text"
      },
      "source": [
        "![over_fitting](https://drive.google.com/uc?export=view&id=16YqSkIgM-exFGTX6drUMGjyBNjod7q6f)\n",
        "\n",
        "\n"
      ]
    },
    {
      "cell_type": "markdown",
      "metadata": {
        "id": "VYEYzeLlnb6D",
        "colab_type": "text"
      },
      "source": [
        "##### Conclusion\n",
        "\n",
        "It is clearly visible deep networks have better accuracy and vice versa. Adding more layers increases the accuracy but it might lead to **Overfitting** or **generalisation error**."
      ]
    },
    {
      "cell_type": "markdown",
      "metadata": {
        "id": "RlSeenTbnb6E",
        "colab_type": "text"
      },
      "source": [
        "### Early Stopping\n",
        "\n",
        "When training a large network, there will be a point during training when the model will stop generalizing and start learning the statistical noise in the training dataset.\n",
        "\n",
        "This overfitting of the training dataset will result in an increase in generalization error, making the model less useful at making predictions on new data.\n",
        "\n",
        "The challenge is to train the network long enough that it is capable of learning the mapping from inputs to outputs, but not training the model so long that it overfits the training data."
      ]
    },
    {
      "cell_type": "markdown",
      "metadata": {
        "id": "lkEOvzEpnb6E",
        "colab_type": "text"
      },
      "source": [
        "How to get through this :\n",
        "- Either limit the number of Epoch (not preferred)\n",
        "- Use EarlyStopping criteria (preferred)"
      ]
    },
    {
      "cell_type": "markdown",
      "metadata": {
        "id": "oWi_5nYunb6F",
        "colab_type": "text"
      },
      "source": [
        "EarlyStopping basically stops training at the point when performance on a validation dataset starts to degrade. (It would by default need a validation set to be able to work).\n",
        "\n",
        "```python\n",
        "from tensorflow.keras.callbacks import EarlyStopping\n",
        "es = EarlyStopping(monitor='val_loss', mode='min', verbose=1, patience=50)\n",
        "```\n",
        "`monitor` :  you can choose any metric to monitor like val_loss, val_acc. <br>\n",
        "`mode` :  by default it is auto and knows that you want to minimize loss or maximize accuracy. like *min* in case of val_loss. <br>\n",
        "`patience`: patience is the number to epochs to wait before stopping it. ex -  If we are chasing *val_loss* and we it is not reducing from the last 50 epoch we stop the training if patience is 50.<br>"
      ]
    },
    {
      "cell_type": "code",
      "metadata": {
        "id": "E6_dmpUanb6F",
        "colab_type": "code",
        "colab": {}
      },
      "source": [
        "from tensorflow.keras.callbacks import EarlyStopping\n",
        "es = EarlyStopping(monitor='val_loss', mode='min', verbose=1, patience=5)"
      ],
      "execution_count": null,
      "outputs": []
    },
    {
      "cell_type": "code",
      "metadata": {
        "id": "FtPVOTDsnb6I",
        "colab_type": "code",
        "colab": {}
      },
      "source": [
        "model3 = Sequential()\n",
        "model3.add(Dense(128, activation='relu', input_shape= (784,) ))\n",
        "model3.add(Dense(256, activation='relu'))\n",
        "model3.add(Dense(128, activation='relu'))\n",
        "model3.add(Dense(10, activation='softmax'))\n",
        "model3.compile(loss='categorical_crossentropy', optimizer=SGD(lr=0.01), metrics=['accuracy'])"
      ],
      "execution_count": null,
      "outputs": []
    },
    {
      "cell_type": "code",
      "metadata": {
        "id": "kLfiQ7Lxnb6M",
        "colab_type": "code",
        "colab": {}
      },
      "source": [
        "logdir = \"logs/\" + datetime.now().strftime(\"%Y%m%d-%H%M%S\")\n",
        "tensorboard_callback = TensorBoard(log_dir=logdir)"
      ],
      "execution_count": null,
      "outputs": []
    },
    {
      "cell_type": "code",
      "metadata": {
        "id": "PwO6pRHPnb6P",
        "colab_type": "code",
        "colab": {
          "base_uri": "https://localhost:8080/",
          "height": 373
        },
        "outputId": "91b645c0-0087-4fba-9aed-0c9308aee242"
      },
      "source": [
        "training_history = model3.fit(\n",
        "    X_train, # input\n",
        "    y_train, # output\n",
        "    batch_size = 32,\n",
        "    verbose = 1, # Suppress chatty output; use Tensorboard instead\n",
        "    epochs = 10,\n",
        "    validation_data = (X_test, y_test),\n",
        "    callbacks = [tensorboard_callback, es],\n",
        ")"
      ],
      "execution_count": null,
      "outputs": [
        {
          "output_type": "stream",
          "text": [
            "Epoch 1/10\n",
            "   1/1875 [..............................] - ETA: 0s - loss: 66.1242 - accuracy: 0.2188WARNING:tensorflow:Callbacks method `on_train_batch_end` is slow compared to the batch time (batch time: 0.0035s vs `on_train_batch_end` time: 0.0299s). Check your callbacks.\n",
            "1875/1875 [==============================] - 4s 2ms/step - loss: 5.4649 - accuracy: 0.1116 - val_loss: 2.3011 - val_accuracy: 0.1135\n",
            "Epoch 2/10\n",
            "1875/1875 [==============================] - 4s 2ms/step - loss: 2.3013 - accuracy: 0.1124 - val_loss: 2.3010 - val_accuracy: 0.1135\n",
            "Epoch 3/10\n",
            "1875/1875 [==============================] - 4s 2ms/step - loss: 2.3013 - accuracy: 0.1124 - val_loss: 2.3010 - val_accuracy: 0.1135\n",
            "Epoch 4/10\n",
            "1875/1875 [==============================] - 4s 2ms/step - loss: 2.3013 - accuracy: 0.1124 - val_loss: 2.3010 - val_accuracy: 0.1135\n",
            "Epoch 5/10\n",
            "1875/1875 [==============================] - 4s 2ms/step - loss: 2.3013 - accuracy: 0.1124 - val_loss: 2.3010 - val_accuracy: 0.1135\n",
            "Epoch 6/10\n",
            "1875/1875 [==============================] - 4s 2ms/step - loss: 2.3013 - accuracy: 0.1124 - val_loss: 2.3011 - val_accuracy: 0.1135\n",
            "Epoch 7/10\n",
            "1875/1875 [==============================] - 4s 2ms/step - loss: 2.3013 - accuracy: 0.1124 - val_loss: 2.3010 - val_accuracy: 0.1135\n",
            "Epoch 8/10\n",
            "1875/1875 [==============================] - 4s 2ms/step - loss: 2.3013 - accuracy: 0.1124 - val_loss: 2.3010 - val_accuracy: 0.1135\n",
            "Epoch 9/10\n",
            "1875/1875 [==============================] - 4s 2ms/step - loss: 2.3013 - accuracy: 0.1124 - val_loss: 2.3011 - val_accuracy: 0.1135\n",
            "Epoch 00009: early stopping\n"
          ],
          "name": "stdout"
        }
      ]
    },
    {
      "cell_type": "markdown",
      "metadata": {
        "id": "_4GJq1r3nb6S",
        "colab_type": "text"
      },
      "source": [
        "The training stopped because the *val_loss* was not reducing and it checked this till 5 epochs since we mentioned *patience* = 5"
      ]
    }
  ]
}